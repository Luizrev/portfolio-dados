{
  "nbformat": 4,
  "nbformat_minor": 0,
  "metadata": {
    "colab": {
      "provenance": []
    },
    "kernelspec": {
      "name": "python3",
      "display_name": "Python 3"
    },
    "language_info": {
      "name": "python"
    }
  },
  "cells": [
    {
      "cell_type": "code",
      "execution_count": 1,
      "metadata": {
        "id": "6u2iXTrz58xq"
      },
      "outputs": [],
      "source": [
        "import requests\n",
        "from bs4 import BeautifulSoup\n",
        "import pandas as pd\n",
        "import logging"
      ]
    },
    {
      "cell_type": "code",
      "source": [
        "# Configuração básica de logging para acompanhar a execução\n",
        "logging.basicConfig(level=logging.INFO, format='%(asctime)s - %(levelname)s - %(message)s')"
      ],
      "metadata": {
        "id": "GLjYA4EG7pkc"
      },
      "execution_count": 2,
      "outputs": []
    },
    {
      "cell_type": "code",
      "source": [
        "def extract_data(url: str) -> pd.DataFrame:\n",
        "  \"\"\"\n",
        "  Extrai a tabela de estatísticas do VLR.gg e a retorna como um DataFrame bruto.\n",
        "  \"\"\"\n",
        "  logging.info(f\"Iniciando a extração de dados da URL: {url}\")\n",
        "  headers = {\n",
        "      'User-Agent': 'Mozilla/5.0 (Windows NT 10.0; Win64; x64) AppleWebKit/537.36 (KHTML, like Gecko) Chrome/58.0.3029.110 Safari/537.36'\n",
        "  }\n",
        "\n",
        "  try:\n",
        "      response = requests.get(url, headers=headers)\n",
        "      response.raise_for_status()\n",
        "  except requests.exceptions.RequestException as e:\n",
        "      logging.error(f\"Erro ao acessar a URL: {e}\")\n",
        "      return None\n",
        "\n",
        "  soup = BeautifulSoup(response.content, 'html.parser')\n",
        "  stats_table = soup.find('table', class_='wf-table mod-stats mod-scroll')\n",
        "\n",
        "  if not stats_table:\n",
        "      logging.warning(\"Nenhuma tabela de estatísticas encontrada na página.\")\n",
        "      return None\n",
        "\n",
        "  table_headers = [header.get_text(strip=True) for header in stats_table.find_all('th')]\n",
        "  table_headers.pop(0)\n",
        "  table_headers.insert(0, 'Player')\n",
        "  table_headers.insert(1, 'Team')\n",
        "\n",
        "  rows = []\n",
        "  for row in stats_table.find('tbody').find_all('tr'):\n",
        "      player_cell = row.find('td', class_='mod-player')\n",
        "      player_name_div = player_cell.find('div', class_='text-of')\n",
        "      player_team_div = player_cell.find('div', class_='stats-player-country')\n",
        "\n",
        "      player = player_name_div.get_text(strip=True) if player_name_div else ''\n",
        "      team = player_team_div.get_text(strip=True) if player_team_div else ''\n",
        "\n",
        "      row_data = [player, team]\n",
        "      other_cells = row.find_all('td')[1:]\n",
        "      for cell in other_cells:\n",
        "          span_val = cell.find('span', class_='stats-sq')\n",
        "          row_data.append(span_val.get_text(strip=True) if span_val else cell.get_text(strip=True))\n",
        "      rows.append(row_data)\n",
        "\n",
        "  logging.info(f\"Extração concluída. {len(rows)} linhas encontradas.\")\n",
        "  return pd.DataFrame(rows, columns=table_headers)"
      ],
      "metadata": {
        "id": "CU4CfRka7pSk"
      },
      "execution_count": 3,
      "outputs": []
    },
    {
      "cell_type": "code",
      "source": [
        "def transform_data(df: pd.DataFrame) -> pd.DataFrame:\n",
        "  \"\"\"\n",
        "  Limpa e transforma o DataFrame bruto, convertendo tipos de dados.\n",
        "  \"\"\"\n",
        "  if df is None:\n",
        "      logging.warning(\"DataFrame de entrada está vazio. Pulando a transformação.\")\n",
        "      return None\n",
        "\n",
        "  logging.info(\"Iniciando a transformação dos dados.\")\n",
        "\n",
        "  # Faz uma cópia para evitar avisos de SettingWithCopyWarning\n",
        "  df_transformed = df.copy()\n",
        "\n",
        "  df_transformed = df_transformed.drop(columns=['Agents'])\n",
        "\n",
        "  # Limpar a coluna KAST\n",
        "  if 'KAST' in df_transformed.columns:\n",
        "      df_transformed['KAST'] = df_transformed['KAST'].str.replace('%', '', regex=False)\n",
        "\n",
        "  # Colunas para converter para tipo numérico\n",
        "  cols_to_convert = ['R', 'ACS', 'K:D', 'ADR', 'KPR', 'APR', 'FKPR', 'FDPR', 'K', 'D', 'A', 'FK', 'FD', '+/-', 'KAST', 'KMax', 'Rnd', 'R2.0']\n",
        "\n",
        "  for col in cols_to_convert:\n",
        "      if col in df_transformed.columns:\n",
        "          df_transformed[col] = pd.to_numeric(df_transformed[col], errors='coerce')\n",
        "\n",
        "  # Converte KAST para decimal após garantir que é numérico\n",
        "  if 'KAST' in df_transformed.columns:\n",
        "      df_transformed['KAST'] /= 100.0\n",
        "\n",
        "  if 'HS%' in df_transformed.columns:\n",
        "        df_transformed['HS%'] = df_transformed['HS%'].str.replace('%', '').astype(float) / 100.0\n",
        "\n",
        "  if 'CL%' in df_transformed.columns:\n",
        "        df_transformed.loc[df_transformed['CL%'] == '', 'CL%'] = '0%'\n",
        "        df_transformed['CL%'] = df_transformed['CL%'].str.replace('%', '').astype(float) / 100.0\n",
        "\n",
        "  if 'CL' in df_transformed.columns:\n",
        "        df_transformed.loc[df_transformed['CL'] == '', 'CL'] = '0/0'\n",
        "\n",
        "  logging.info(\"Transformação concluída.\")\n",
        "  return df_transformed"
      ],
      "metadata": {
        "id": "KUUjzlzT7pIk"
      },
      "execution_count": 4,
      "outputs": []
    },
    {
      "cell_type": "code",
      "source": [
        "def load_data(df: pd.DataFrame, file_path: str):\n",
        "  \"\"\"\n",
        "  Salva o DataFrame final em um arquivo CSV.\n",
        "  \"\"\"\n",
        "  if df is None:\n",
        "      logging.error(\"DataFrame final está vazio. Nenhum dado para carregar.\")\n",
        "      return\n",
        "\n",
        "  logging.info(f\"Carregando dados para o arquivo: {file_path}\")\n",
        "  try:\n",
        "      df.to_csv(file_path, index=False, encoding='utf-8-sig')\n",
        "      logging.info(\"Dados carregados com sucesso!\")\n",
        "  except Exception as e:\n",
        "      logging.error(f\"Falha ao salvar o arquivo CSV: {e}\")"
      ],
      "metadata": {
        "id": "5iw4egzP7pAV"
      },
      "execution_count": 5,
      "outputs": []
    },
    {
      "cell_type": "code",
      "source": [
        "URL = \"https://www.vlr.gg/event/stats/2283/valorant-champions-2025\"\n",
        "OUTPUT_FILE = \"valorant_stats_pipeline.csv\""
      ],
      "metadata": {
        "id": "QcYY9jWP7o38"
      },
      "execution_count": 6,
      "outputs": []
    },
    {
      "cell_type": "code",
      "source": [
        "# 1. Extract\n",
        "raw_df = extract_data(URL)"
      ],
      "metadata": {
        "id": "nQ8gBVzx8Gg9"
      },
      "execution_count": 7,
      "outputs": []
    },
    {
      "cell_type": "code",
      "source": [
        "# 2. Transform\n",
        "clean_df = transform_data(raw_df)"
      ],
      "metadata": {
        "id": "ghylIWMW8Hvs"
      },
      "execution_count": 8,
      "outputs": []
    },
    {
      "cell_type": "code",
      "source": [
        "# 3. Load\n",
        "load_data(clean_df, OUTPUT_FILE)"
      ],
      "metadata": {
        "id": "8Rqv6sQa8HpM"
      },
      "execution_count": 9,
      "outputs": []
    }
  ]
}